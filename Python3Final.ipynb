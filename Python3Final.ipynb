{
  "cells": [
    {
      "cell_type": "code",
      "execution_count": null,
      "metadata": {
        "id": "hyGbANvwKxKX"
      },
      "outputs": [],
      "source": [
        "import pandas as pd\n",
        "import numpy as np\n",
        "import seaborn as sns\n",
        "import matplotlib.pyplot as plt\n",
        "%matplotlib inline"
      ]
    },
    {
      "cell_type": "code",
      "execution_count": null,
      "metadata": {
        "id": "TVxzEwbBKxKa"
      },
      "outputs": [],
      "source": [
        "df= pd.read_csv('https://raw.githubusercontent.com/mren5/NYPDcsv/main/NYPD_Arrest_Data__Year_to_Date_.csv')"
      ]
    },
    {
      "cell_type": "code",
      "execution_count": null,
      "metadata": {
        "id": "qTI-RQoBKxKb",
        "outputId": "cf3aa8bd-2d67-4c21-bb08-39663f9de9a2"
      },
      "outputs": [
        {
          "data": {
            "text/html": [
              "<div>\n",
              "<style scoped>\n",
              "    .dataframe tbody tr th:only-of-type {\n",
              "        vertical-align: middle;\n",
              "    }\n",
              "\n",
              "    .dataframe tbody tr th {\n",
              "        vertical-align: top;\n",
              "    }\n",
              "\n",
              "    .dataframe thead th {\n",
              "        text-align: right;\n",
              "    }\n",
              "</style>\n",
              "<table border=\"1\" class=\"dataframe\">\n",
              "  <thead>\n",
              "    <tr style=\"text-align: right;\">\n",
              "      <th></th>\n",
              "      <th>ARREST_KEY</th>\n",
              "      <th>ARREST_DATE</th>\n",
              "      <th>PD_CD</th>\n",
              "      <th>PD_DESC</th>\n",
              "      <th>KY_CD</th>\n",
              "      <th>OFNS_DESC</th>\n",
              "      <th>LAW_CODE</th>\n",
              "      <th>LAW_CAT_CD</th>\n",
              "      <th>ARREST_BORO</th>\n",
              "      <th>ARREST_PRECINCT</th>\n",
              "      <th>JURISDICTION_CODE</th>\n",
              "      <th>AGE_GROUP</th>\n",
              "      <th>PERP_SEX</th>\n",
              "      <th>PERP_RACE</th>\n",
              "      <th>X_COORD_CD</th>\n",
              "      <th>Y_COORD_CD</th>\n",
              "      <th>Latitude</th>\n",
              "      <th>Longitude</th>\n",
              "      <th>New Georeferenced Column</th>\n",
              "    </tr>\n",
              "  </thead>\n",
              "  <tbody>\n",
              "    <tr>\n",
              "      <th>0</th>\n",
              "      <td>263187871</td>\n",
              "      <td>02/07/2023</td>\n",
              "      <td>105.0</td>\n",
              "      <td>STRANGULATION 1ST</td>\n",
              "      <td>106.0</td>\n",
              "      <td>FELONY ASSAULT</td>\n",
              "      <td>PL 1211200</td>\n",
              "      <td>F</td>\n",
              "      <td>S</td>\n",
              "      <td>120</td>\n",
              "      <td>0</td>\n",
              "      <td>25-44</td>\n",
              "      <td>M</td>\n",
              "      <td>BLACK</td>\n",
              "      <td>951637</td>\n",
              "      <td>171141</td>\n",
              "      <td>40.636362</td>\n",
              "      <td>-74.117505</td>\n",
              "      <td>POINT (-74.117505 40.636362)</td>\n",
              "    </tr>\n",
              "    <tr>\n",
              "      <th>1</th>\n",
              "      <td>261368273</td>\n",
              "      <td>01/04/2023</td>\n",
              "      <td>NaN</td>\n",
              "      <td>(null)</td>\n",
              "      <td>NaN</td>\n",
              "      <td>(null)</td>\n",
              "      <td>RPA0076801</td>\n",
              "      <td>M</td>\n",
              "      <td>M</td>\n",
              "      <td>34</td>\n",
              "      <td>0</td>\n",
              "      <td>25-44</td>\n",
              "      <td>F</td>\n",
              "      <td>BLACK</td>\n",
              "      <td>1004287</td>\n",
              "      <td>251338</td>\n",
              "      <td>40.856519</td>\n",
              "      <td>-73.927564</td>\n",
              "      <td>POINT (-73.927564 40.856519)</td>\n",
              "    </tr>\n",
              "    <tr>\n",
              "      <th>2</th>\n",
              "      <td>261667175</td>\n",
              "      <td>01/10/2023</td>\n",
              "      <td>101.0</td>\n",
              "      <td>ASSAULT 3</td>\n",
              "      <td>344.0</td>\n",
              "      <td>ASSAULT 3 &amp; RELATED OFFENSES</td>\n",
              "      <td>PL 1200001</td>\n",
              "      <td>M</td>\n",
              "      <td>B</td>\n",
              "      <td>42</td>\n",
              "      <td>0</td>\n",
              "      <td>18-24</td>\n",
              "      <td>F</td>\n",
              "      <td>WHITE HISPANIC</td>\n",
              "      <td>1008754</td>\n",
              "      <td>238895</td>\n",
              "      <td>40.822355</td>\n",
              "      <td>-73.911463</td>\n",
              "      <td>POINT (-73.911463 40.822355)</td>\n",
              "    </tr>\n",
              "    <tr>\n",
              "      <th>3</th>\n",
              "      <td>264298625</td>\n",
              "      <td>02/27/2023</td>\n",
              "      <td>NaN</td>\n",
              "      <td>(null)</td>\n",
              "      <td>NaN</td>\n",
              "      <td>(null)</td>\n",
              "      <td>PL 2224000</td>\n",
              "      <td>F</td>\n",
              "      <td>Q</td>\n",
              "      <td>113</td>\n",
              "      <td>0</td>\n",
              "      <td>25-44</td>\n",
              "      <td>M</td>\n",
              "      <td>BLACK</td>\n",
              "      <td>1039225</td>\n",
              "      <td>181937</td>\n",
              "      <td>40.665881</td>\n",
              "      <td>-73.801837</td>\n",
              "      <td>POINT (-73.80183654 40.66588105)</td>\n",
              "    </tr>\n",
              "    <tr>\n",
              "      <th>4</th>\n",
              "      <td>261516485</td>\n",
              "      <td>01/07/2023</td>\n",
              "      <td>397.0</td>\n",
              "      <td>ROBBERY,OPEN AREA UNCLASSIFIED</td>\n",
              "      <td>105.0</td>\n",
              "      <td>ROBBERY</td>\n",
              "      <td>PL 1601001</td>\n",
              "      <td>F</td>\n",
              "      <td>M</td>\n",
              "      <td>18</td>\n",
              "      <td>0</td>\n",
              "      <td>&lt;18</td>\n",
              "      <td>M</td>\n",
              "      <td>BLACK</td>\n",
              "      <td>988210</td>\n",
              "      <td>218129</td>\n",
              "      <td>40.765390</td>\n",
              "      <td>-73.985702</td>\n",
              "      <td>POINT (-73.985702 40.76539)</td>\n",
              "    </tr>\n",
              "  </tbody>\n",
              "</table>\n",
              "</div>"
            ],
            "text/plain": [
              "   ARREST_KEY ARREST_DATE  PD_CD                         PD_DESC  KY_CD  \\\n",
              "0   263187871  02/07/2023  105.0               STRANGULATION 1ST  106.0   \n",
              "1   261368273  01/04/2023    NaN                          (null)    NaN   \n",
              "2   261667175  01/10/2023  101.0                       ASSAULT 3  344.0   \n",
              "3   264298625  02/27/2023    NaN                          (null)    NaN   \n",
              "4   261516485  01/07/2023  397.0  ROBBERY,OPEN AREA UNCLASSIFIED  105.0   \n",
              "\n",
              "                      OFNS_DESC    LAW_CODE LAW_CAT_CD ARREST_BORO  \\\n",
              "0                FELONY ASSAULT  PL 1211200          F           S   \n",
              "1                        (null)  RPA0076801          M           M   \n",
              "2  ASSAULT 3 & RELATED OFFENSES  PL 1200001          M           B   \n",
              "3                        (null)  PL 2224000          F           Q   \n",
              "4                       ROBBERY  PL 1601001          F           M   \n",
              "\n",
              "   ARREST_PRECINCT  JURISDICTION_CODE AGE_GROUP PERP_SEX       PERP_RACE  \\\n",
              "0              120                  0     25-44        M           BLACK   \n",
              "1               34                  0     25-44        F           BLACK   \n",
              "2               42                  0     18-24        F  WHITE HISPANIC   \n",
              "3              113                  0     25-44        M           BLACK   \n",
              "4               18                  0       <18        M           BLACK   \n",
              "\n",
              "   X_COORD_CD  Y_COORD_CD   Latitude  Longitude  \\\n",
              "0      951637      171141  40.636362 -74.117505   \n",
              "1     1004287      251338  40.856519 -73.927564   \n",
              "2     1008754      238895  40.822355 -73.911463   \n",
              "3     1039225      181937  40.665881 -73.801837   \n",
              "4      988210      218129  40.765390 -73.985702   \n",
              "\n",
              "           New Georeferenced Column  \n",
              "0      POINT (-74.117505 40.636362)  \n",
              "1      POINT (-73.927564 40.856519)  \n",
              "2      POINT (-73.911463 40.822355)  \n",
              "3  POINT (-73.80183654 40.66588105)  \n",
              "4       POINT (-73.985702 40.76539)  "
            ]
          },
          "execution_count": 3,
          "metadata": {},
          "output_type": "execute_result"
        }
      ],
      "source": [
        "df.head()"
      ]
    },
    {
      "cell_type": "code",
      "execution_count": null,
      "metadata": {
        "id": "TQW7AyDbKxKb",
        "outputId": "544e9f12-511d-4d0d-e3b5-e2fa285c902f"
      },
      "outputs": [
        {
          "data": {
            "text/plain": [
              "Index(['ARREST_KEY', 'ARREST_DATE', 'PD_CD', 'PD_DESC', 'KY_CD', 'OFNS_DESC',\n",
              "       'LAW_CODE', 'LAW_CAT_CD', 'ARREST_BORO', 'ARREST_PRECINCT',\n",
              "       'JURISDICTION_CODE', 'AGE_GROUP', 'PERP_SEX', 'PERP_RACE', 'X_COORD_CD',\n",
              "       'Y_COORD_CD', 'Latitude', 'Longitude', 'New Georeferenced Column'],\n",
              "      dtype='object')"
            ]
          },
          "execution_count": 4,
          "metadata": {},
          "output_type": "execute_result"
        }
      ],
      "source": [
        "df.columns\n",
        "#review of columns in the dataset"
      ]
    },
    {
      "cell_type": "code",
      "execution_count": null,
      "metadata": {
        "id": "HH4X0Ct6KxKc"
      },
      "outputs": [],
      "source": [
        "drop_cols = ['ARREST_KEY', 'ARREST_DATE', 'PD_CD', 'PD_DESC', 'KY_CD', 'OFNS_DESC',\n",
        "       'LAW_CODE', 'ARREST_PRECINCT',\n",
        "       'JURISDICTION_CODE', 'AGE_GROUP', 'X_COORD_CD',\n",
        "       'Y_COORD_CD', 'Latitude', 'Longitude', 'New Georeferenced Column']\n",
        "#DATA CLEANING and removing columns that will not be used for the analysis"
      ]
    },
    {
      "cell_type": "code",
      "execution_count": null,
      "metadata": {
        "id": "NzmqRUyhKxKc"
      },
      "outputs": [],
      "source": [
        "df.drop(drop_cols, inplace =True, axis=1)"
      ]
    },
    {
      "cell_type": "code",
      "execution_count": null,
      "metadata": {
        "id": "M_9d7X_7KxKd",
        "outputId": "10c9db43-0e58-4257-813d-c9a9d9dc84d0"
      },
      "outputs": [
        {
          "data": {
            "text/html": [
              "<div>\n",
              "<style scoped>\n",
              "    .dataframe tbody tr th:only-of-type {\n",
              "        vertical-align: middle;\n",
              "    }\n",
              "\n",
              "    .dataframe tbody tr th {\n",
              "        vertical-align: top;\n",
              "    }\n",
              "\n",
              "    .dataframe thead th {\n",
              "        text-align: right;\n",
              "    }\n",
              "</style>\n",
              "<table border=\"1\" class=\"dataframe\">\n",
              "  <thead>\n",
              "    <tr style=\"text-align: right;\">\n",
              "      <th></th>\n",
              "      <th>LAW_CAT_CD</th>\n",
              "      <th>ARREST_BORO</th>\n",
              "      <th>PERP_SEX</th>\n",
              "      <th>PERP_RACE</th>\n",
              "    </tr>\n",
              "  </thead>\n",
              "  <tbody>\n",
              "    <tr>\n",
              "      <th>0</th>\n",
              "      <td>F</td>\n",
              "      <td>S</td>\n",
              "      <td>M</td>\n",
              "      <td>BLACK</td>\n",
              "    </tr>\n",
              "    <tr>\n",
              "      <th>1</th>\n",
              "      <td>M</td>\n",
              "      <td>M</td>\n",
              "      <td>F</td>\n",
              "      <td>BLACK</td>\n",
              "    </tr>\n",
              "    <tr>\n",
              "      <th>2</th>\n",
              "      <td>M</td>\n",
              "      <td>B</td>\n",
              "      <td>F</td>\n",
              "      <td>WHITE HISPANIC</td>\n",
              "    </tr>\n",
              "    <tr>\n",
              "      <th>3</th>\n",
              "      <td>F</td>\n",
              "      <td>Q</td>\n",
              "      <td>M</td>\n",
              "      <td>BLACK</td>\n",
              "    </tr>\n",
              "    <tr>\n",
              "      <th>4</th>\n",
              "      <td>F</td>\n",
              "      <td>M</td>\n",
              "      <td>M</td>\n",
              "      <td>BLACK</td>\n",
              "    </tr>\n",
              "  </tbody>\n",
              "</table>\n",
              "</div>"
            ],
            "text/plain": [
              "  LAW_CAT_CD ARREST_BORO PERP_SEX       PERP_RACE\n",
              "0          F           S        M           BLACK\n",
              "1          M           M        F           BLACK\n",
              "2          M           B        F  WHITE HISPANIC\n",
              "3          F           Q        M           BLACK\n",
              "4          F           M        M           BLACK"
            ]
          },
          "execution_count": 7,
          "metadata": {},
          "output_type": "execute_result"
        }
      ],
      "source": [
        "df.head()\n",
        "#review of the table without the uncessary columns "
      ]
    },
    {
      "cell_type": "code",
      "execution_count": null,
      "metadata": {
        "id": "55DyJ4rpKxKd"
      },
      "outputs": [],
      "source": [
        "df1=df.rename(columns= {'LAW_CAT_CD': 'Level of Offense', 'ARREST_BORO':'Borough','PERP_SEX':'Gender','PERP_RACE':'Race'} )\n",
        "#renaming columns "
      ]
    },
    {
      "cell_type": "code",
      "execution_count": null,
      "metadata": {
        "id": "Tft1BxaZKxKd",
        "outputId": "55c8ba3b-b2d3-45da-fd2b-b0d907813c70"
      },
      "outputs": [
        {
          "data": {
            "text/html": [
              "<div>\n",
              "<style scoped>\n",
              "    .dataframe tbody tr th:only-of-type {\n",
              "        vertical-align: middle;\n",
              "    }\n",
              "\n",
              "    .dataframe tbody tr th {\n",
              "        vertical-align: top;\n",
              "    }\n",
              "\n",
              "    .dataframe thead th {\n",
              "        text-align: right;\n",
              "    }\n",
              "</style>\n",
              "<table border=\"1\" class=\"dataframe\">\n",
              "  <thead>\n",
              "    <tr style=\"text-align: right;\">\n",
              "      <th></th>\n",
              "      <th>Level of Offense</th>\n",
              "      <th>Borough</th>\n",
              "      <th>Gender</th>\n",
              "      <th>Race</th>\n",
              "    </tr>\n",
              "  </thead>\n",
              "  <tbody>\n",
              "    <tr>\n",
              "      <th>0</th>\n",
              "      <td>F</td>\n",
              "      <td>S</td>\n",
              "      <td>M</td>\n",
              "      <td>BLACK</td>\n",
              "    </tr>\n",
              "    <tr>\n",
              "      <th>1</th>\n",
              "      <td>M</td>\n",
              "      <td>M</td>\n",
              "      <td>F</td>\n",
              "      <td>BLACK</td>\n",
              "    </tr>\n",
              "    <tr>\n",
              "      <th>2</th>\n",
              "      <td>M</td>\n",
              "      <td>B</td>\n",
              "      <td>F</td>\n",
              "      <td>WHITE HISPANIC</td>\n",
              "    </tr>\n",
              "    <tr>\n",
              "      <th>3</th>\n",
              "      <td>F</td>\n",
              "      <td>Q</td>\n",
              "      <td>M</td>\n",
              "      <td>BLACK</td>\n",
              "    </tr>\n",
              "    <tr>\n",
              "      <th>4</th>\n",
              "      <td>F</td>\n",
              "      <td>M</td>\n",
              "      <td>M</td>\n",
              "      <td>BLACK</td>\n",
              "    </tr>\n",
              "    <tr>\n",
              "      <th>...</th>\n",
              "      <td>...</td>\n",
              "      <td>...</td>\n",
              "      <td>...</td>\n",
              "      <td>...</td>\n",
              "    </tr>\n",
              "    <tr>\n",
              "      <th>54571</th>\n",
              "      <td>F</td>\n",
              "      <td>Q</td>\n",
              "      <td>M</td>\n",
              "      <td>ASIAN / PACIFIC ISLANDER</td>\n",
              "    </tr>\n",
              "    <tr>\n",
              "      <th>54572</th>\n",
              "      <td>M</td>\n",
              "      <td>M</td>\n",
              "      <td>M</td>\n",
              "      <td>WHITE HISPANIC</td>\n",
              "    </tr>\n",
              "    <tr>\n",
              "      <th>54573</th>\n",
              "      <td>F</td>\n",
              "      <td>Q</td>\n",
              "      <td>M</td>\n",
              "      <td>WHITE</td>\n",
              "    </tr>\n",
              "    <tr>\n",
              "      <th>54574</th>\n",
              "      <td>M</td>\n",
              "      <td>Q</td>\n",
              "      <td>M</td>\n",
              "      <td>ASIAN / PACIFIC ISLANDER</td>\n",
              "    </tr>\n",
              "    <tr>\n",
              "      <th>54575</th>\n",
              "      <td>F</td>\n",
              "      <td>Q</td>\n",
              "      <td>M</td>\n",
              "      <td>WHITE</td>\n",
              "    </tr>\n",
              "  </tbody>\n",
              "</table>\n",
              "<p>54576 rows × 4 columns</p>\n",
              "</div>"
            ],
            "text/plain": [
              "      Level of Offense Borough Gender                      Race\n",
              "0                    F       S      M                     BLACK\n",
              "1                    M       M      F                     BLACK\n",
              "2                    M       B      F            WHITE HISPANIC\n",
              "3                    F       Q      M                     BLACK\n",
              "4                    F       M      M                     BLACK\n",
              "...                ...     ...    ...                       ...\n",
              "54571                F       Q      M  ASIAN / PACIFIC ISLANDER\n",
              "54572                M       M      M            WHITE HISPANIC\n",
              "54573                F       Q      M                     WHITE\n",
              "54574                M       Q      M  ASIAN / PACIFIC ISLANDER\n",
              "54575                F       Q      M                     WHITE\n",
              "\n",
              "[54576 rows x 4 columns]"
            ]
          },
          "execution_count": 9,
          "metadata": {},
          "output_type": "execute_result"
        }
      ],
      "source": [
        "df1\n",
        "#reviewing columns with new headers"
      ]
    },
    {
      "cell_type": "code",
      "execution_count": null,
      "metadata": {
        "id": "OPL1fekhKxKe",
        "outputId": "24efabea-d54e-4baa-cb50-c0b6ef844e91"
      },
      "outputs": [
        {
          "data": {
            "text/html": [
              "<div>\n",
              "<style scoped>\n",
              "    .dataframe tbody tr th:only-of-type {\n",
              "        vertical-align: middle;\n",
              "    }\n",
              "\n",
              "    .dataframe tbody tr th {\n",
              "        vertical-align: top;\n",
              "    }\n",
              "\n",
              "    .dataframe thead th {\n",
              "        text-align: right;\n",
              "    }\n",
              "</style>\n",
              "<table border=\"1\" class=\"dataframe\">\n",
              "  <thead>\n",
              "    <tr style=\"text-align: right;\">\n",
              "      <th></th>\n",
              "      <th>Level of Offense</th>\n",
              "      <th>Borough</th>\n",
              "      <th>Gender</th>\n",
              "      <th>Race</th>\n",
              "    </tr>\n",
              "  </thead>\n",
              "  <tbody>\n",
              "    <tr>\n",
              "      <th>0</th>\n",
              "      <td>F</td>\n",
              "      <td>S</td>\n",
              "      <td>M</td>\n",
              "      <td>BLACK</td>\n",
              "    </tr>\n",
              "    <tr>\n",
              "      <th>1</th>\n",
              "      <td>M</td>\n",
              "      <td>M</td>\n",
              "      <td>F</td>\n",
              "      <td>BLACK</td>\n",
              "    </tr>\n",
              "    <tr>\n",
              "      <th>2</th>\n",
              "      <td>M</td>\n",
              "      <td>B</td>\n",
              "      <td>F</td>\n",
              "      <td>WHITE HISPANIC</td>\n",
              "    </tr>\n",
              "    <tr>\n",
              "      <th>3</th>\n",
              "      <td>F</td>\n",
              "      <td>Q</td>\n",
              "      <td>M</td>\n",
              "      <td>BLACK</td>\n",
              "    </tr>\n",
              "    <tr>\n",
              "      <th>4</th>\n",
              "      <td>F</td>\n",
              "      <td>M</td>\n",
              "      <td>M</td>\n",
              "      <td>BLACK</td>\n",
              "    </tr>\n",
              "    <tr>\n",
              "      <th>...</th>\n",
              "      <td>...</td>\n",
              "      <td>...</td>\n",
              "      <td>...</td>\n",
              "      <td>...</td>\n",
              "    </tr>\n",
              "    <tr>\n",
              "      <th>54571</th>\n",
              "      <td>F</td>\n",
              "      <td>Q</td>\n",
              "      <td>M</td>\n",
              "      <td>ASIAN / PACIFIC ISLANDER</td>\n",
              "    </tr>\n",
              "    <tr>\n",
              "      <th>54572</th>\n",
              "      <td>M</td>\n",
              "      <td>M</td>\n",
              "      <td>M</td>\n",
              "      <td>WHITE HISPANIC</td>\n",
              "    </tr>\n",
              "    <tr>\n",
              "      <th>54573</th>\n",
              "      <td>F</td>\n",
              "      <td>Q</td>\n",
              "      <td>M</td>\n",
              "      <td>WHITE</td>\n",
              "    </tr>\n",
              "    <tr>\n",
              "      <th>54574</th>\n",
              "      <td>M</td>\n",
              "      <td>Q</td>\n",
              "      <td>M</td>\n",
              "      <td>ASIAN / PACIFIC ISLANDER</td>\n",
              "    </tr>\n",
              "    <tr>\n",
              "      <th>54575</th>\n",
              "      <td>F</td>\n",
              "      <td>Q</td>\n",
              "      <td>M</td>\n",
              "      <td>WHITE</td>\n",
              "    </tr>\n",
              "  </tbody>\n",
              "</table>\n",
              "<p>53922 rows × 4 columns</p>\n",
              "</div>"
            ],
            "text/plain": [
              "      Level of Offense Borough Gender                      Race\n",
              "0                    F       S      M                     BLACK\n",
              "1                    M       M      F                     BLACK\n",
              "2                    M       B      F            WHITE HISPANIC\n",
              "3                    F       Q      M                     BLACK\n",
              "4                    F       M      M                     BLACK\n",
              "...                ...     ...    ...                       ...\n",
              "54571                F       Q      M  ASIAN / PACIFIC ISLANDER\n",
              "54572                M       M      M            WHITE HISPANIC\n",
              "54573                F       Q      M                     WHITE\n",
              "54574                M       Q      M  ASIAN / PACIFIC ISLANDER\n",
              "54575                F       Q      M                     WHITE\n",
              "\n",
              "[53922 rows x 4 columns]"
            ]
          },
          "execution_count": 10,
          "metadata": {},
          "output_type": "execute_result"
        }
      ],
      "source": [
        "df2=df1.loc[(df1['Level of Offense']=='F') | (df1['Level of Offense']=='M') | (df1['Level of Offense']=='V')]\n",
        "df2\n",
        "#Selecting output that only includes data from the data dictionary"
      ]
    },
    {
      "cell_type": "code",
      "execution_count": null,
      "metadata": {
        "id": "tYZjrzDBKxKe",
        "outputId": "1c1aaef4-7ffc-4e26-e1e8-a243e24bbd3c"
      },
      "outputs": [
        {
          "data": {
            "text/plain": [
              "array(['F', 'M', 'V'], dtype=object)"
            ]
          },
          "execution_count": 11,
          "metadata": {},
          "output_type": "execute_result"
        }
      ],
      "source": [
        "df2['Level of Offense'].unique()"
      ]
    },
    {
      "cell_type": "code",
      "execution_count": null,
      "metadata": {
        "id": "9GwuhKl0KxKf",
        "outputId": "6dad2e74-fd79-4560-ac61-864e6c4230a4"
      },
      "outputs": [
        {
          "data": {
            "text/html": [
              "<div>\n",
              "<style scoped>\n",
              "    .dataframe tbody tr th:only-of-type {\n",
              "        vertical-align: middle;\n",
              "    }\n",
              "\n",
              "    .dataframe tbody tr th {\n",
              "        vertical-align: top;\n",
              "    }\n",
              "\n",
              "    .dataframe thead th {\n",
              "        text-align: right;\n",
              "    }\n",
              "</style>\n",
              "<table border=\"1\" class=\"dataframe\">\n",
              "  <thead>\n",
              "    <tr style=\"text-align: right;\">\n",
              "      <th></th>\n",
              "      <th>Level of Offense</th>\n",
              "      <th>Borough</th>\n",
              "      <th>Race</th>\n",
              "      <th>Gender</th>\n",
              "    </tr>\n",
              "  </thead>\n",
              "  <tbody>\n",
              "    <tr>\n",
              "      <th>0</th>\n",
              "      <td>F</td>\n",
              "      <td>S</td>\n",
              "      <td>BLACK</td>\n",
              "      <td>M</td>\n",
              "    </tr>\n",
              "    <tr>\n",
              "      <th>1</th>\n",
              "      <td>M</td>\n",
              "      <td>M</td>\n",
              "      <td>BLACK</td>\n",
              "      <td>F</td>\n",
              "    </tr>\n",
              "    <tr>\n",
              "      <th>2</th>\n",
              "      <td>M</td>\n",
              "      <td>B</td>\n",
              "      <td>WHITE HISPANIC</td>\n",
              "      <td>F</td>\n",
              "    </tr>\n",
              "    <tr>\n",
              "      <th>3</th>\n",
              "      <td>F</td>\n",
              "      <td>Q</td>\n",
              "      <td>BLACK</td>\n",
              "      <td>M</td>\n",
              "    </tr>\n",
              "    <tr>\n",
              "      <th>4</th>\n",
              "      <td>F</td>\n",
              "      <td>M</td>\n",
              "      <td>BLACK</td>\n",
              "      <td>M</td>\n",
              "    </tr>\n",
              "    <tr>\n",
              "      <th>...</th>\n",
              "      <td>...</td>\n",
              "      <td>...</td>\n",
              "      <td>...</td>\n",
              "      <td>...</td>\n",
              "    </tr>\n",
              "    <tr>\n",
              "      <th>54571</th>\n",
              "      <td>F</td>\n",
              "      <td>Q</td>\n",
              "      <td>ASIAN / PACIFIC ISLANDER</td>\n",
              "      <td>M</td>\n",
              "    </tr>\n",
              "    <tr>\n",
              "      <th>54572</th>\n",
              "      <td>M</td>\n",
              "      <td>M</td>\n",
              "      <td>WHITE HISPANIC</td>\n",
              "      <td>M</td>\n",
              "    </tr>\n",
              "    <tr>\n",
              "      <th>54573</th>\n",
              "      <td>F</td>\n",
              "      <td>Q</td>\n",
              "      <td>WHITE</td>\n",
              "      <td>M</td>\n",
              "    </tr>\n",
              "    <tr>\n",
              "      <th>54574</th>\n",
              "      <td>M</td>\n",
              "      <td>Q</td>\n",
              "      <td>ASIAN / PACIFIC ISLANDER</td>\n",
              "      <td>M</td>\n",
              "    </tr>\n",
              "    <tr>\n",
              "      <th>54575</th>\n",
              "      <td>F</td>\n",
              "      <td>Q</td>\n",
              "      <td>WHITE</td>\n",
              "      <td>M</td>\n",
              "    </tr>\n",
              "  </tbody>\n",
              "</table>\n",
              "<p>53922 rows × 4 columns</p>\n",
              "</div>"
            ],
            "text/plain": [
              "      Level of Offense Borough                      Race Gender\n",
              "0                    F       S                     BLACK      M\n",
              "1                    M       M                     BLACK      F\n",
              "2                    M       B            WHITE HISPANIC      F\n",
              "3                    F       Q                     BLACK      M\n",
              "4                    F       M                     BLACK      M\n",
              "...                ...     ...                       ...    ...\n",
              "54571                F       Q  ASIAN / PACIFIC ISLANDER      M\n",
              "54572                M       M            WHITE HISPANIC      M\n",
              "54573                F       Q                     WHITE      M\n",
              "54574                M       Q  ASIAN / PACIFIC ISLANDER      M\n",
              "54575                F       Q                     WHITE      M\n",
              "\n",
              "[53922 rows x 4 columns]"
            ]
          },
          "execution_count": 12,
          "metadata": {},
          "output_type": "execute_result"
        }
      ],
      "source": [
        "df3=df2.loc[:,['Level of Offense', 'Borough', 'Race','Gender']]\n",
        "df3"
      ]
    },
    {
      "cell_type": "code",
      "execution_count": null,
      "metadata": {
        "id": "opuGyLVAKxKf",
        "outputId": "152fd4c0-8467-4500-949f-3db0b529a98b"
      },
      "outputs": [
        {
          "data": {
            "text/plain": [
              "array(['F', 'M', 'V'], dtype=object)"
            ]
          },
          "execution_count": 13,
          "metadata": {},
          "output_type": "execute_result"
        }
      ],
      "source": [
        "df3['Level of Offense'].unique()"
      ]
    },
    {
      "cell_type": "code",
      "execution_count": null,
      "metadata": {
        "id": "fwdDGrq6KxKf",
        "outputId": "82f4f66b-37c2-462b-f033-6470b3041c9f"
      },
      "outputs": [
        {
          "data": {
            "text/html": [
              "<div>\n",
              "<style scoped>\n",
              "    .dataframe tbody tr th:only-of-type {\n",
              "        vertical-align: middle;\n",
              "    }\n",
              "\n",
              "    .dataframe tbody tr th {\n",
              "        vertical-align: top;\n",
              "    }\n",
              "\n",
              "    .dataframe thead th {\n",
              "        text-align: right;\n",
              "    }\n",
              "</style>\n",
              "<table border=\"1\" class=\"dataframe\">\n",
              "  <thead>\n",
              "    <tr style=\"text-align: right;\">\n",
              "      <th></th>\n",
              "      <th>Level of Offense</th>\n",
              "      <th>Borough</th>\n",
              "      <th>Race</th>\n",
              "      <th>Gender</th>\n",
              "    </tr>\n",
              "  </thead>\n",
              "  <tbody>\n",
              "    <tr>\n",
              "      <th>0</th>\n",
              "      <td>F</td>\n",
              "      <td>S</td>\n",
              "      <td>BLACK</td>\n",
              "      <td>M</td>\n",
              "    </tr>\n",
              "    <tr>\n",
              "      <th>1</th>\n",
              "      <td>M</td>\n",
              "      <td>M</td>\n",
              "      <td>BLACK</td>\n",
              "      <td>F</td>\n",
              "    </tr>\n",
              "    <tr>\n",
              "      <th>2</th>\n",
              "      <td>M</td>\n",
              "      <td>B</td>\n",
              "      <td>WHITE HISPANIC</td>\n",
              "      <td>F</td>\n",
              "    </tr>\n",
              "    <tr>\n",
              "      <th>3</th>\n",
              "      <td>F</td>\n",
              "      <td>Q</td>\n",
              "      <td>BLACK</td>\n",
              "      <td>M</td>\n",
              "    </tr>\n",
              "    <tr>\n",
              "      <th>4</th>\n",
              "      <td>F</td>\n",
              "      <td>M</td>\n",
              "      <td>BLACK</td>\n",
              "      <td>M</td>\n",
              "    </tr>\n",
              "    <tr>\n",
              "      <th>...</th>\n",
              "      <td>...</td>\n",
              "      <td>...</td>\n",
              "      <td>...</td>\n",
              "      <td>...</td>\n",
              "    </tr>\n",
              "    <tr>\n",
              "      <th>54571</th>\n",
              "      <td>F</td>\n",
              "      <td>Q</td>\n",
              "      <td>ASIAN / PACIFIC ISLANDER</td>\n",
              "      <td>M</td>\n",
              "    </tr>\n",
              "    <tr>\n",
              "      <th>54572</th>\n",
              "      <td>M</td>\n",
              "      <td>M</td>\n",
              "      <td>WHITE HISPANIC</td>\n",
              "      <td>M</td>\n",
              "    </tr>\n",
              "    <tr>\n",
              "      <th>54573</th>\n",
              "      <td>F</td>\n",
              "      <td>Q</td>\n",
              "      <td>WHITE</td>\n",
              "      <td>M</td>\n",
              "    </tr>\n",
              "    <tr>\n",
              "      <th>54574</th>\n",
              "      <td>M</td>\n",
              "      <td>Q</td>\n",
              "      <td>ASIAN / PACIFIC ISLANDER</td>\n",
              "      <td>M</td>\n",
              "    </tr>\n",
              "    <tr>\n",
              "      <th>54575</th>\n",
              "      <td>F</td>\n",
              "      <td>Q</td>\n",
              "      <td>WHITE</td>\n",
              "      <td>M</td>\n",
              "    </tr>\n",
              "  </tbody>\n",
              "</table>\n",
              "<p>53397 rows × 4 columns</p>\n",
              "</div>"
            ],
            "text/plain": [
              "      Level of Offense Borough                      Race Gender\n",
              "0                    F       S                     BLACK      M\n",
              "1                    M       M                     BLACK      F\n",
              "2                    M       B            WHITE HISPANIC      F\n",
              "3                    F       Q                     BLACK      M\n",
              "4                    F       M                     BLACK      M\n",
              "...                ...     ...                       ...    ...\n",
              "54571                F       Q  ASIAN / PACIFIC ISLANDER      M\n",
              "54572                M       M            WHITE HISPANIC      M\n",
              "54573                F       Q                     WHITE      M\n",
              "54574                M       Q  ASIAN / PACIFIC ISLANDER      M\n",
              "54575                F       Q                     WHITE      M\n",
              "\n",
              "[53397 rows x 4 columns]"
            ]
          },
          "execution_count": 14,
          "metadata": {},
          "output_type": "execute_result"
        }
      ],
      "source": [
        "df4= df3[df3['Gender'] !='U']\n",
        "df4\n",
        "##analyzing and cleaning data to remove all values that contain 'U'"
      ]
    },
    {
      "cell_type": "code",
      "execution_count": null,
      "metadata": {
        "id": "uaXy-GJ0KxKf",
        "outputId": "6bf45fd8-739b-47eb-b0bb-6136308c9479"
      },
      "outputs": [
        {
          "data": {
            "text/plain": [
              "array(['M', 'F'], dtype=object)"
            ]
          },
          "execution_count": 15,
          "metadata": {},
          "output_type": "execute_result"
        }
      ],
      "source": [
        "df4['Gender'].unique()\n",
        "#reviewing data output from gender"
      ]
    },
    {
      "cell_type": "code",
      "execution_count": null,
      "metadata": {
        "id": "qHZWwf8EKxKg",
        "outputId": "a60ede9c-5a67-4b80-dc81-d138f5752f01"
      },
      "outputs": [
        {
          "data": {
            "text/plain": [
              "array(['BLACK', 'WHITE HISPANIC', 'WHITE', 'UNKNOWN', 'BLACK HISPANIC',\n",
              "       'ASIAN / PACIFIC ISLANDER', 'AMERICAN INDIAN/ALASKAN NATIVE'],\n",
              "      dtype=object)"
            ]
          },
          "execution_count": 16,
          "metadata": {},
          "output_type": "execute_result"
        }
      ],
      "source": [
        "df4['Race'].unique()\n",
        "#reviewing data from Race"
      ]
    },
    {
      "cell_type": "code",
      "execution_count": null,
      "metadata": {
        "id": "ina1xEnbKxKg",
        "outputId": "1186d7fc-faf7-4dd0-eec3-127b970eebf2"
      },
      "outputs": [
        {
          "data": {
            "text/html": [
              "<div>\n",
              "<style scoped>\n",
              "    .dataframe tbody tr th:only-of-type {\n",
              "        vertical-align: middle;\n",
              "    }\n",
              "\n",
              "    .dataframe tbody tr th {\n",
              "        vertical-align: top;\n",
              "    }\n",
              "\n",
              "    .dataframe thead th {\n",
              "        text-align: right;\n",
              "    }\n",
              "</style>\n",
              "<table border=\"1\" class=\"dataframe\">\n",
              "  <thead>\n",
              "    <tr style=\"text-align: right;\">\n",
              "      <th></th>\n",
              "      <th>Level of Offense</th>\n",
              "      <th>Borough</th>\n",
              "      <th>Race</th>\n",
              "      <th>Gender</th>\n",
              "    </tr>\n",
              "  </thead>\n",
              "  <tbody>\n",
              "    <tr>\n",
              "      <th>0</th>\n",
              "      <td>F</td>\n",
              "      <td>S</td>\n",
              "      <td>BLACK</td>\n",
              "      <td>M</td>\n",
              "    </tr>\n",
              "    <tr>\n",
              "      <th>1</th>\n",
              "      <td>M</td>\n",
              "      <td>M</td>\n",
              "      <td>BLACK</td>\n",
              "      <td>F</td>\n",
              "    </tr>\n",
              "    <tr>\n",
              "      <th>2</th>\n",
              "      <td>M</td>\n",
              "      <td>B</td>\n",
              "      <td>WHITE HISPANIC</td>\n",
              "      <td>F</td>\n",
              "    </tr>\n",
              "    <tr>\n",
              "      <th>3</th>\n",
              "      <td>F</td>\n",
              "      <td>Q</td>\n",
              "      <td>BLACK</td>\n",
              "      <td>M</td>\n",
              "    </tr>\n",
              "    <tr>\n",
              "      <th>4</th>\n",
              "      <td>F</td>\n",
              "      <td>M</td>\n",
              "      <td>BLACK</td>\n",
              "      <td>M</td>\n",
              "    </tr>\n",
              "    <tr>\n",
              "      <th>...</th>\n",
              "      <td>...</td>\n",
              "      <td>...</td>\n",
              "      <td>...</td>\n",
              "      <td>...</td>\n",
              "    </tr>\n",
              "    <tr>\n",
              "      <th>54571</th>\n",
              "      <td>F</td>\n",
              "      <td>Q</td>\n",
              "      <td>ASIAN / PACIFIC ISLANDER</td>\n",
              "      <td>M</td>\n",
              "    </tr>\n",
              "    <tr>\n",
              "      <th>54572</th>\n",
              "      <td>M</td>\n",
              "      <td>M</td>\n",
              "      <td>WHITE HISPANIC</td>\n",
              "      <td>M</td>\n",
              "    </tr>\n",
              "    <tr>\n",
              "      <th>54573</th>\n",
              "      <td>F</td>\n",
              "      <td>Q</td>\n",
              "      <td>WHITE</td>\n",
              "      <td>M</td>\n",
              "    </tr>\n",
              "    <tr>\n",
              "      <th>54574</th>\n",
              "      <td>M</td>\n",
              "      <td>Q</td>\n",
              "      <td>ASIAN / PACIFIC ISLANDER</td>\n",
              "      <td>M</td>\n",
              "    </tr>\n",
              "    <tr>\n",
              "      <th>54575</th>\n",
              "      <td>F</td>\n",
              "      <td>Q</td>\n",
              "      <td>WHITE</td>\n",
              "      <td>M</td>\n",
              "    </tr>\n",
              "  </tbody>\n",
              "</table>\n",
              "<p>53012 rows × 4 columns</p>\n",
              "</div>"
            ],
            "text/plain": [
              "      Level of Offense Borough                      Race Gender\n",
              "0                    F       S                     BLACK      M\n",
              "1                    M       M                     BLACK      F\n",
              "2                    M       B            WHITE HISPANIC      F\n",
              "3                    F       Q                     BLACK      M\n",
              "4                    F       M                     BLACK      M\n",
              "...                ...     ...                       ...    ...\n",
              "54571                F       Q  ASIAN / PACIFIC ISLANDER      M\n",
              "54572                M       M            WHITE HISPANIC      M\n",
              "54573                F       Q                     WHITE      M\n",
              "54574                M       Q  ASIAN / PACIFIC ISLANDER      M\n",
              "54575                F       Q                     WHITE      M\n",
              "\n",
              "[53012 rows x 4 columns]"
            ]
          },
          "execution_count": 17,
          "metadata": {},
          "output_type": "execute_result"
        }
      ],
      "source": [
        "df5= df4[df4['Race'] !='UNKNOWN']\n",
        "df5\n",
        "#cleaning data to exclude 'unknown'"
      ]
    },
    {
      "cell_type": "code",
      "execution_count": null,
      "metadata": {
        "id": "2gGtcgk4KxKg",
        "outputId": "e092dadc-f124-4e49-b94f-3d6d34f93cdc"
      },
      "outputs": [
        {
          "data": {
            "text/plain": [
              "array(['BLACK', 'WHITE HISPANIC', 'WHITE', 'BLACK HISPANIC',\n",
              "       'ASIAN / PACIFIC ISLANDER', 'AMERICAN INDIAN/ALASKAN NATIVE'],\n",
              "      dtype=object)"
            ]
          },
          "execution_count": 18,
          "metadata": {},
          "output_type": "execute_result"
        }
      ],
      "source": [
        "df5['Race'].unique()"
      ]
    },
    {
      "cell_type": "code",
      "execution_count": null,
      "metadata": {
        "id": "dbu6gj83KxKg",
        "outputId": "373220fa-f3fb-460d-c90d-2922a809498b"
      },
      "outputs": [
        {
          "data": {
            "text/html": [
              "<div>\n",
              "<style scoped>\n",
              "    .dataframe tbody tr th:only-of-type {\n",
              "        vertical-align: middle;\n",
              "    }\n",
              "\n",
              "    .dataframe tbody tr th {\n",
              "        vertical-align: top;\n",
              "    }\n",
              "\n",
              "    .dataframe thead th {\n",
              "        text-align: right;\n",
              "    }\n",
              "</style>\n",
              "<table border=\"1\" class=\"dataframe\">\n",
              "  <thead>\n",
              "    <tr style=\"text-align: right;\">\n",
              "      <th></th>\n",
              "      <th>Level of Offense</th>\n",
              "      <th>count</th>\n",
              "    </tr>\n",
              "  </thead>\n",
              "  <tbody>\n",
              "    <tr>\n",
              "      <th>0</th>\n",
              "      <td>F</td>\n",
              "      <td>22962</td>\n",
              "    </tr>\n",
              "    <tr>\n",
              "      <th>1</th>\n",
              "      <td>M</td>\n",
              "      <td>29744</td>\n",
              "    </tr>\n",
              "    <tr>\n",
              "      <th>2</th>\n",
              "      <td>V</td>\n",
              "      <td>306</td>\n",
              "    </tr>\n",
              "  </tbody>\n",
              "</table>\n",
              "</div>"
            ],
            "text/plain": [
              "  Level of Offense  count\n",
              "0                F  22962\n",
              "1                M  29744\n",
              "2                V    306"
            ]
          },
          "execution_count": 19,
          "metadata": {},
          "output_type": "execute_result"
        }
      ],
      "source": [
        "df_offense=df5.groupby(['Level of Offense'])['Borough'].count().reset_index(name='count')\n",
        "df_offense\n",
        "#analyzing count  for level of offense for each category "
      ]
    },
    {
      "cell_type": "code",
      "execution_count": null,
      "metadata": {
        "id": "4Qf27eVdKxKh",
        "outputId": "3b5444c0-2032-462c-d373-e42db462332e"
      },
      "outputs": [
        {
          "data": {
            "text/html": [
              "<div>\n",
              "<style scoped>\n",
              "    .dataframe tbody tr th:only-of-type {\n",
              "        vertical-align: middle;\n",
              "    }\n",
              "\n",
              "    .dataframe tbody tr th {\n",
              "        vertical-align: top;\n",
              "    }\n",
              "\n",
              "    .dataframe thead th {\n",
              "        text-align: right;\n",
              "    }\n",
              "</style>\n",
              "<table border=\"1\" class=\"dataframe\">\n",
              "  <thead>\n",
              "    <tr style=\"text-align: right;\">\n",
              "      <th></th>\n",
              "      <th>Borough</th>\n",
              "      <th>count</th>\n",
              "    </tr>\n",
              "  </thead>\n",
              "  <tbody>\n",
              "    <tr>\n",
              "      <th>0</th>\n",
              "      <td>B</td>\n",
              "      <td>12561</td>\n",
              "    </tr>\n",
              "    <tr>\n",
              "      <th>1</th>\n",
              "      <td>K</td>\n",
              "      <td>14885</td>\n",
              "    </tr>\n",
              "    <tr>\n",
              "      <th>2</th>\n",
              "      <td>M</td>\n",
              "      <td>12081</td>\n",
              "    </tr>\n",
              "    <tr>\n",
              "      <th>3</th>\n",
              "      <td>Q</td>\n",
              "      <td>11211</td>\n",
              "    </tr>\n",
              "    <tr>\n",
              "      <th>4</th>\n",
              "      <td>S</td>\n",
              "      <td>2274</td>\n",
              "    </tr>\n",
              "  </tbody>\n",
              "</table>\n",
              "</div>"
            ],
            "text/plain": [
              "  Borough  count\n",
              "0       B  12561\n",
              "1       K  14885\n",
              "2       M  12081\n",
              "3       Q  11211\n",
              "4       S   2274"
            ]
          },
          "execution_count": 29,
          "metadata": {},
          "output_type": "execute_result"
        }
      ],
      "source": [
        "df_borough=df5.groupby(['Borough'])['Level of Offense'].count().reset_index(name='count')\n",
        "df_borough\n",
        "#analyzing count for level of offense by borough "
      ]
    },
    {
      "cell_type": "code",
      "execution_count": null,
      "metadata": {
        "id": "GOFzI8ZGKxKh",
        "outputId": "408043a7-0474-400e-ed77-aa19632b3fce"
      },
      "outputs": [
        {
          "data": {
            "text/html": [
              "<div>\n",
              "<style scoped>\n",
              "    .dataframe tbody tr th:only-of-type {\n",
              "        vertical-align: middle;\n",
              "    }\n",
              "\n",
              "    .dataframe tbody tr th {\n",
              "        vertical-align: top;\n",
              "    }\n",
              "\n",
              "    .dataframe thead th {\n",
              "        text-align: right;\n",
              "    }\n",
              "</style>\n",
              "<table border=\"1\" class=\"dataframe\">\n",
              "  <thead>\n",
              "    <tr style=\"text-align: right;\">\n",
              "      <th></th>\n",
              "      <th>Race</th>\n",
              "      <th>count</th>\n",
              "    </tr>\n",
              "  </thead>\n",
              "  <tbody>\n",
              "    <tr>\n",
              "      <th>0</th>\n",
              "      <td>AMERICAN INDIAN/ALASKAN NATIVE</td>\n",
              "      <td>183</td>\n",
              "    </tr>\n",
              "    <tr>\n",
              "      <th>1</th>\n",
              "      <td>ASIAN / PACIFIC ISLANDER</td>\n",
              "      <td>2796</td>\n",
              "    </tr>\n",
              "    <tr>\n",
              "      <th>2</th>\n",
              "      <td>BLACK</td>\n",
              "      <td>26226</td>\n",
              "    </tr>\n",
              "    <tr>\n",
              "      <th>3</th>\n",
              "      <td>BLACK HISPANIC</td>\n",
              "      <td>4944</td>\n",
              "    </tr>\n",
              "    <tr>\n",
              "      <th>4</th>\n",
              "      <td>WHITE</td>\n",
              "      <td>5352</td>\n",
              "    </tr>\n",
              "    <tr>\n",
              "      <th>5</th>\n",
              "      <td>WHITE HISPANIC</td>\n",
              "      <td>13511</td>\n",
              "    </tr>\n",
              "  </tbody>\n",
              "</table>\n",
              "</div>"
            ],
            "text/plain": [
              "                             Race  count\n",
              "0  AMERICAN INDIAN/ALASKAN NATIVE    183\n",
              "1        ASIAN / PACIFIC ISLANDER   2796\n",
              "2                           BLACK  26226\n",
              "3                  BLACK HISPANIC   4944\n",
              "4                           WHITE   5352\n",
              "5                  WHITE HISPANIC  13511"
            ]
          },
          "execution_count": 30,
          "metadata": {},
          "output_type": "execute_result"
        }
      ],
      "source": [
        "df_race=df5.groupby(['Race'])['Gender'].count().reset_index(name='count')\n",
        "df_race\n",
        "#analyzing count for level of offens by Race"
      ]
    },
    {
      "cell_type": "code",
      "execution_count": null,
      "metadata": {
        "id": "ZWcCVCSOKxKh",
        "outputId": "bdfacf52-5460-48b8-8819-111e80ab8b87"
      },
      "outputs": [
        {
          "data": {
            "text/plain": [
              "Gender\n",
              "F     8850\n",
              "M    44162\n",
              "Name: Level of Offense, dtype: int64"
            ]
          },
          "execution_count": 31,
          "metadata": {},
          "output_type": "execute_result"
        }
      ],
      "source": [
        "df_gender=df5.groupby(['Gender'])['Level of Offense'].count()\n",
        "df_gender\n",
        "#analyzing count for level of offens by Race by gender"
      ]
    },
    {
      "cell_type": "code",
      "execution_count": null,
      "metadata": {
        "id": "2eZqH7OlKxKh",
        "outputId": "46de1511-8045-456e-cd6b-12e4ba403050"
      },
      "outputs": [
        {
          "data": {
            "text/plain": [
              "<AxesSubplot:xlabel='Level of Offense', ylabel='count'>"
            ]
          },
          "execution_count": 32,
          "metadata": {},
          "output_type": "execute_result"
        },
        {
          "data": {
            "image/png": "[encoded data removed]",
            "text/plain": [
              "<Figure size 432x288 with 1 Axes>"
            ]
          },
          "metadata": {
            "needs_background": "light"
          },
          "output_type": "display_data"
        }
      ],
      "source": [
        "sns.countplot(x='Level of Offense', hue='Gender', data=df5)\n",
        "#created countplot based on level of offense and gender"
      ]
    },
    {
      "cell_type": "code",
      "execution_count": null,
      "metadata": {
        "id": "n4O6cWTdKxKh",
        "outputId": "0f6a2f83-7fe0-4907-f532-fef0f1636552"
      },
      "outputs": [
        {
          "data": {
            "image/png": "[encoded data removed]",
            "text/plain": [
              "<Figure size 432x288 with 1 Axes>"
            ]
          },
          "metadata": {
            "needs_background": "light"
          },
          "output_type": "display_data"
        }
      ],
      "source": [
        "sns.countplot(x='Race',data=df5)\n",
        "ax=sns.countplot(x=\"Race\", data=df5)\n",
        "ax.set_xticklabels(ax.get_xticklabels(), rotation=40, ha=\"right\")\n",
        "ax.set_xticklabels(ax.get_xticklabels(), rotation=40, ha=\"right\")\n",
        "plt.tight_layout()\n",
        "plt.show()\n",
        "#created countplot for count of offense based on Race "
      ]
    },
    {
      "cell_type": "code",
      "execution_count": null,
      "metadata": {
        "id": "-6whyIC2KxKi",
        "outputId": "466b8fd7-e99a-4aa5-fbcb-8bd37618f1fa"
      },
      "outputs": [
        {
          "data": {
            "text/plain": [
              "<AxesSubplot:xlabel='Borough', ylabel='count'>"
            ]
          },
          "execution_count": 34,
          "metadata": {},
          "output_type": "execute_result"
        },
        {
          "data": {
            "image/png": "[encoded data removed]",
            "text/plain": [
              "<Figure size 432x288 with 1 Axes>"
            ]
          },
          "metadata": {
            "needs_background": "light"
          },
          "output_type": "display_data"
        }
      ],
      "source": [
        "sns.countplot(x='Borough', hue='Level of Offense', data=df5)\n",
        "#created countplox based on level of offense and borough"
      ]
    },
    {
      "cell_type": "markdown",
      "metadata": {
        "id": "IQER0VeCKxKi"
      },
      "source": [
        "**Conclusion**\n"
      ]
    },
    {
      "cell_type": "code",
      "source": [
        "#Based on the analysis, the level of offense for felony, misdemeanor and violations are higher in males compared to females. The secound count plot shows the breakdown of crimes by race. Based on Boroughs, appears Brookly and the Bronx has the most crimes.  "
      ],
      "metadata": {
        "id": "RIH8X15fMI3T"
      },
      "execution_count": null,
      "outputs": []
    },
    {
      "cell_type": "markdown",
      "source": [],
      "metadata": {
        "id": "vRcK_osbMMDW"
      }
    }
  ],
  "metadata": {
    "kernelspec": {
      "display_name": "Python 3",
      "language": "python",
      "name": "python3"
    },
    "language_info": {
      "codemirror_mode": {
        "name": "ipython",
        "version": 3
      },
      "file_extension": ".py",
      "mimetype": "text/x-python",
      "name": "python",
      "nbconvert_exporter": "python",
      "pygments_lexer": "ipython3",
      "version": "3.8.5"
    },
    "colab": {
      "provenance": []
    }
  },
  "nbformat": 4,
  "nbformat_minor": 0
}